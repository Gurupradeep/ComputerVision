{
 "cells": [
  {
   "cell_type": "code",
   "execution_count": 27,
   "metadata": {},
   "outputs": [],
   "source": [
    "import cv2\n",
    "import numpy as np\n",
    "from matplotlib import pyplot as plt\n",
    "%matplotlib inline"
   ]
  },
  {
   "cell_type": "code",
   "execution_count": 28,
   "metadata": {},
   "outputs": [],
   "source": [
    "image = cv2.imread(\"/home/guru/Desktop/ComputerVision/Assignment1/IpythonNotebooks/checkerboard.png\",0)"
   ]
  },
  {
   "cell_type": "code",
   "execution_count": 29,
   "metadata": {},
   "outputs": [
    {
     "data": {
      "text/plain": [
       "<matplotlib.image.AxesImage at 0x7ff2d4c4ca90>"
      ]
     },
     "execution_count": 29,
     "metadata": {},
     "output_type": "execute_result"
    },
    {
     "data": {
      "image/png": "[encoded data removed]",
      "text/plain": [
       "<matplotlib.figure.Figure at 0x7ff2d6006f90>"
      ]
     },
     "metadata": {},
     "output_type": "display_data"
    }
   ],
   "source": [
    "plt.imshow(image, cmap = \"gray\")"
   ]
  },
  {
   "cell_type": "code",
   "execution_count": 30,
   "metadata": {},
   "outputs": [
    {
     "data": {
      "text/plain": [
       "(384, 384)"
      ]
     },
     "execution_count": 30,
     "metadata": {},
     "output_type": "execute_result"
    }
   ],
   "source": [
    "image.shape"
   ]
  },
  {
   "cell_type": "code",
   "execution_count": 31,
   "metadata": {},
   "outputs": [],
   "source": [
    "def cornerColorImage(image, corner_array, threshold,window_size) :\n",
    "    \"\"\"\n",
    "    Marks the corners in given Image\n",
    "    \n",
    "    parameters\n",
    "    ----------\n",
    "    image : (N,M) ndarray\n",
    "        Input image\n",
    "    corner_arry : (N,3) ndarray\n",
    "        Has co-ordinates and their corresponding R values\n",
    "    threshold : Float or Int\n",
    "        Threshold which is used for classifying whether it's corner or not\n",
    "    window_size : Int\n",
    "        It is the size of neighbourhood considered for corner detection\n",
    "    \n",
    "    Returns\n",
    "    -------\n",
    "    image : (N,M) ndarray\n",
    "        Image with corners marked with Red Color\n",
    "    \"\"\"\n",
    "    #Creating a copy of the image to mark the corner pixels\n",
    "    newImg = image.copy()\n",
    "    color_img = cv2.cvtColor(newImg, cv2.COLOR_GRAY2RGB)\n",
    "    offset = window_size/2\n",
    "    height, width = image.shape\n",
    "    \n",
    "    count = 0;\n",
    "    for i in range(offset, height - offset) :\n",
    "        for j in range(offset, width - offset) :\n",
    "            \n",
    "            if( corner_array[count][2] > threshold ) :\n",
    "                color_img.itemset((i, j, 0), 255)\n",
    "                color_img.itemset((i, j, 1), 0)\n",
    "                color_img.itemset((i, j, 2), 0)\n",
    "            count = count + 1\n",
    "    return color_img"
   ]
  },
  {
   "cell_type": "code",
   "execution_count": 32,
   "metadata": {},
   "outputs": [],
   "source": [
    "def findCorners(image, window_size, ksize, k) :\n",
    "    \n",
    "    \"\"\"\n",
    "    Finds the corners in the image using window of all ones.\n",
    "\n",
    "    Parameters\n",
    "    ----------\n",
    "    image : (N,M) ndarray\n",
    "        Input image\n",
    "    window_size : Integer\n",
    "        It is the size of neighbourhood considered for corner detection\n",
    "    ksize : Integer \n",
    "        Aperture parameter of Sobel derivative used.\n",
    "    k : Float\n",
    "        Harris detector free parameter in the equation.\n",
    "        \n",
    "    Returns\n",
    "    -------\n",
    "    \n",
    "    corner_list : List\n",
    "        List containing the R values of all points\n",
    "    \n",
    "    \"\"\"  \n",
    "        \n",
    "    #Calculating the gradient\n",
    "    dx = cv2.Sobel(image,cv2.CV_64F,1,0,ksize =  ksize)\n",
    "    dy = cv2.Sobel(image,cv2.CV_64F,0,1,ksize = ksize)\n",
    "    \n",
    "    #List which will have co ordinates of all the corners\n",
    "    cornerList = []\n",
    "    \n",
    "    Ixx = dx**2\n",
    "    Iyy = dy**2\n",
    "    Ixy = dx*dy\n",
    "    \n",
    "    height, width = image.shape\n",
    "    \n",
    "    offset = window_size/2\n",
    "    \n",
    "    for i in range(offset, height - offset) :\n",
    "        for j in range(offset, width - offset) :\n",
    "            \n",
    "    #Here the window used is a matrix with all ones, so directly sum can be taken \n",
    "            Ix_window = Ixx[j-offset:j+offset+1, i-offset:i+offset+1]\n",
    "            Iy_window = Iyy[j-offset:j+offset+1, i-offset:i+offset+1]\n",
    "            Ixy_window = Ixy[j-offset:j+offset+1, i-offset:i+offset+1] \n",
    "            \n",
    "            Sxx = np.sum(Ix_window)\n",
    "            Syy = np.sum(Iy_window)\n",
    "            Sxy = np.sum(Ixy_window)\n",
    "            \n",
    "    # Find determinant and trace, use to get corner response\n",
    "            det = (Sxx * Syy) - (Sxy**2)\n",
    "            trace = Sxx + Syy\n",
    "            r = det - k*(trace**2)\n",
    "            cornerList.append([i,j,r])\n",
    "    \n",
    "    return cornerList\n"
   ]
  },
  {
   "cell_type": "code",
   "execution_count": 38,
   "metadata": {},
   "outputs": [],
   "source": [
    "corners = findCorners(image,5,5, 0.04)"
   ]
  },
  {
   "cell_type": "code",
   "execution_count": 39,
   "metadata": {},
   "outputs": [],
   "source": [
    "corners = np.array(corners)"
   ]
  },
  {
   "cell_type": "code",
   "execution_count": 40,
   "metadata": {},
   "outputs": [
    {
     "data": {
      "text/plain": [
       "(144400, 3)"
      ]
     },
     "execution_count": 40,
     "metadata": {},
     "output_type": "execute_result"
    }
   ],
   "source": [
    "corners.shape"
   ]
  },
  {
   "cell_type": "code",
   "execution_count": 55,
   "metadata": {},
   "outputs": [],
   "source": [
    "#Setting threshold as fraction of Max R value\n",
    "corner_image = cornerColorImage(image,corners, 0.1*np.max(corners[:,2]),5)"
   ]
  },
  {
   "cell_type": "code",
   "execution_count": 42,
   "metadata": {},
   "outputs": [
    {
     "data": {
      "text/plain": [
       "<matplotlib.image.AxesImage at 0x7ff2d44f1090>"
      ]
     },
     "execution_count": 42,
     "metadata": {},
     "output_type": "execute_result"
    },
    {
     "data": {
      "image/png": "[encoded data removed]",
      "text/plain": [
       "<matplotlib.figure.Figure at 0x7ff2d4511b90>"
      ]
     },
     "metadata": {},
     "output_type": "display_data"
    }
   ],
   "source": [
    "plt.imshow(corner_image)"
   ]
  },
  {
   "cell_type": "code",
   "execution_count": 47,
   "metadata": {},
   "outputs": [],
   "source": [
    "def gaussian_kernel_2D(ksize, s):\n",
    "    offset = int(ksize / 2)\n",
    "    res = np.zeros((ksize, ksize))\n",
    "    for i in range(-offset, offset + 1):\n",
    "        for j in range(-offset, offset + 1):\n",
    "            res[i + offset][j + offset] = np.exp(-(i ** 2 + j ** 2) / (2 * s ** 2)) / (2 * np.pi * s ** 2)\n",
    "    res = res / np.sum(res)\n",
    "    #print(res)\n",
    "    #print(np.sum(res))\n",
    "    return res\n"
   ]
  },
  {
   "cell_type": "code",
   "execution_count": 48,
   "metadata": {},
   "outputs": [],
   "source": [
    "\n",
    "def findCornersGaussianWindow(image, window_size, ksize, k, std) :\n",
    "    \"\"\"\n",
    "    Finds the corners in the image using Gaussian window.\n",
    "\n",
    "    Parameters\n",
    "    ----------\n",
    "    image : (N,M) ndarray\n",
    "        Input image\n",
    "    window_size : Integer\n",
    "        It is the size of neighbourhood considered for corner detection\n",
    "    ksize : Integer \n",
    "        Aperture parameter of Sobel derivative used.\n",
    "    k : Float\n",
    "        Harris detector free parameter in the equation.\n",
    "    std : Int\n",
    "        Standard deviation used by Gaussian Kernel\n",
    "    \n",
    "    Returns\n",
    "    -------\n",
    "    \n",
    "    corner_list : List\n",
    "        List containing the R values of all points\n",
    "    \n",
    "    \"\"\"  \n",
    "    \n",
    "    #Calculating the gradient\n",
    "    dx = cv2.Sobel(image,cv2.CV_64F,1,0,ksize = ksize)\n",
    "    dy = cv2.Sobel(image,cv2.CV_64F,0,1,ksize = ksize)\n",
    "    \n",
    "    #List which will have co ordinates of all the corners\n",
    "    cornerList = []\n",
    "    \n",
    "    Ixx = dx**2\n",
    "    Iyy = dy**2\n",
    "    Ixy = dx*dy\n",
    "    \n",
    "    height, width = image.shape\n",
    "    \n",
    "    offset = window_size/2\n",
    "    \n",
    "   \n",
    "    #Calling function to get 2D gaussian kernel of required size\n",
    "    Gaussian_weights = gaussian_kernel_2D(window_size,std)\n",
    "            \n",
    "    for i in range(offset, height - offset) :\n",
    "        for j in range(offset, width - offset) :\n",
    "            \n",
    "    #Here the window used is a matrix with all ones, so directly sum can be taken \n",
    "            Ix_window = Ixx[i-offset:i+offset+1, j-offset:j+offset+1]\n",
    "            Iy_window = Iyy[i-offset:i+offset+1, j-offset:j+offset+1]\n",
    "            Ixy_window = Ixy[i-offset:i+offset+1, j-offset:j+offset+1] \n",
    "            \n",
    "           # print(Ix_window.shape)\n",
    "           # print()\n",
    "            Ix_weighted = Ix_window * Gaussian_weights\n",
    "            Iy_weighted = Iy_window * Gaussian_weights\n",
    "            Ixy_weighted = Ixy_window * Gaussian_weights\n",
    "            \n",
    "            Sxx = np.sum(Ix_weighted)\n",
    "            Syy = np.sum(Iy_weighted)\n",
    "            Sxy = np.sum(Ixy_weighted)\n",
    "            \n",
    "    # Find determinant and trace, use to get corner response\n",
    "            det = (Sxx * Syy) - (Sxy**2)\n",
    "            trace = Sxx + Syy\n",
    "            r = det - k*(trace**2)\n",
    "           \n",
    "            cornerList.append([i,j,r])\n",
    "            \n",
    "    return cornerList;\n"
   ]
  },
  {
   "cell_type": "code",
   "execution_count": 49,
   "metadata": {},
   "outputs": [],
   "source": [
    "corners = findCornersGaussianWindow(image,3,3,0.04,1)"
   ]
  },
  {
   "cell_type": "code",
   "execution_count": 50,
   "metadata": {},
   "outputs": [],
   "source": [
    "corners = np.array(corners)"
   ]
  },
  {
   "cell_type": "code",
   "execution_count": 51,
   "metadata": {},
   "outputs": [],
   "source": [
    "#Setting threshold as fraction of Max R value\n",
    "corner_image = cornerColorImage(image,corners, 0.1*np.max(corners[:,2]),3)"
   ]
  },
  {
   "cell_type": "code",
   "execution_count": 54,
   "metadata": {},
   "outputs": [
    {
     "data": {
      "text/plain": [
       "<matplotlib.image.AxesImage at 0x7ff2d6193910>"
      ]
     },
     "execution_count": 54,
     "metadata": {},
     "output_type": "execute_result"
    },
    {
     "data": {
      "image/png": "[encoded data removed]",
      "text/plain": [
       "<matplotlib.figure.Figure at 0x7ff2d454ac90>"
      ]
     },
     "metadata": {},
     "output_type": "display_data"
    }
   ],
   "source": [
    "plt.imshow(corner_image)"
   ]
  },
  {
   "cell_type": "code",
   "execution_count": null,
   "metadata": {},
   "outputs": [],
   "source": []
  }
 ],
 "metadata": {
  "kernelspec": {
   "display_name": "Python 2",
   "language": "python",
   "name": "python2"
  },
  "language_info": {
   "codemirror_mode": {
    "name": "ipython",
    "version": 2
   },
   "file_extension": ".py",
   "mimetype": "text/x-python",
   "name": "python",
   "nbconvert_exporter": "python",
   "pygments_lexer": "ipython2",
   "version": "2.7.12"
  }
 },
 "nbformat": 4,
 "nbformat_minor": 2
}

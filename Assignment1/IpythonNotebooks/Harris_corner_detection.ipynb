{
 "cells": [
  {
   "cell_type": "code",
   "execution_count": 1,
   "metadata": {},
   "outputs": [],
   "source": [
    "import cv2\n",
    "import numpy as np\n",
    "from matplotlib import pyplot as plt\n",
    "%matplotlib inline"
   ]
  },
  {
   "cell_type": "code",
   "execution_count": 4,
   "metadata": {},
   "outputs": [],
   "source": [
    "image = cv2.imread(\"/home/guru/Desktop/ComputerVision/Assignment1/IpythonNotebooks/checkerboard.png\",0)"
   ]
  },
  {
   "cell_type": "code",
   "execution_count": 5,
   "metadata": {},
   "outputs": [
    {
     "data": {
      "text/plain": [
       "<matplotlib.image.AxesImage at 0x7f65378d8490>"
      ]
     },
     "execution_count": 5,
     "metadata": {},
     "output_type": "execute_result"
    },
    {
     "data": {
      "image/png": "[encoded data removed]",
      "text/plain": [
       "<matplotlib.figure.Figure at 0x7f6537b31510>"
      ]
     },
     "metadata": {},
     "output_type": "display_data"
    }
   ],
   "source": [
    "plt.imshow(image, cmap = \"gray\")"
   ]
  },
  {
   "cell_type": "code",
   "execution_count": 6,
   "metadata": {},
   "outputs": [
    {
     "data": {
      "text/plain": [
       "(384, 384)"
      ]
     },
     "execution_count": 6,
     "metadata": {},
     "output_type": "execute_result"
    }
   ],
   "source": [
    "image.shape"
   ]
  },
  {
   "cell_type": "code",
   "execution_count": 49,
   "metadata": {},
   "outputs": [],
   "source": [
    "def findCorners(image, window_size, ksize, k, threshold) :\n",
    "    \n",
    "    \"\"\"\n",
    "    Finds the corners in the image using window of all ones.\n",
    "\n",
    "    Parameters\n",
    "    ----------\n",
    "    image : (N,M) ndarray\n",
    "        Input image\n",
    "    window_size : Integer\n",
    "        It is the size of neighbourhood considered for corner detection\n",
    "    ksize : Integer \n",
    "        Aperture parameter of Sobel derivative used.\n",
    "    k : Float\n",
    "        Harris detector free parameter in the equation.\n",
    "    threshold : Float\n",
    "        Threshold used to classify a pixel as corner\n",
    "    \n",
    "    Returns\n",
    "    -------\n",
    "    \n",
    "    corner_list : List\n",
    "        List containing the co ordinates of all the corners\n",
    "    \n",
    "    corner_image : (N,M) ndarray\n",
    "        Image with corners marked\n",
    "    \"\"\"  \n",
    "        \n",
    "    #Calculating the gradient\n",
    "    dx = cv2.Sobel(image,cv2.CV_64F,1,0,ksize =  ksize)\n",
    "    dy = cv2.Sobel(image,cv2.CV_64F,0,1,ksize = ksize)\n",
    "    \n",
    "    #List which will have co ordinates of all the corners\n",
    "    cornerList = []\n",
    "    \n",
    "    Ixx = dx**2\n",
    "    Iyy = dy**2\n",
    "    Ixy = dx*dy\n",
    "    \n",
    "    height, width = image.shape\n",
    "    \n",
    "    offset = window_size/2\n",
    "    \n",
    "    #Creating a copy of the image to mark the corner pixels\n",
    "    newImg = image.copy()\n",
    "    color_img = cv2.cvtColor(newImg, cv2.COLOR_GRAY2RGB)\n",
    "    \n",
    "    for i in range(offset, height - offset) :\n",
    "        for j in range(offset, width - offset) :\n",
    "            \n",
    "    #Here the window used is a matrix with all ones, so directly sum can be taken \n",
    "            Ix_window = Ixx[j-offset:j+offset+1, i-offset:i+offset+1]\n",
    "            Iy_window = Iyy[j-offset:j+offset+1, i-offset:i+offset+1]\n",
    "            Ixy_window = Ixy[j-offset:j+offset+1, i-offset:i+offset+1] \n",
    "            \n",
    "            Sxx = np.sum(Ix_window)\n",
    "            Syy = np.sum(Iy_window)\n",
    "            Sxy = np.sum(Ixy_window)\n",
    "            \n",
    "    # Find determinant and trace, use to get corner response\n",
    "            det = (Sxx * Syy) - (Sxy**2)\n",
    "            trace = Sxx + Syy\n",
    "            r = det - k*(trace**2)\n",
    "            \n",
    "            if( r > threshold ) :\n",
    "                cornerList.append([i,j,r])\n",
    "                color_img.itemset((i, j, 0), 255)\n",
    "                color_img.itemset((i, j, 1), 0)\n",
    "                color_img.itemset((i, j, 2), 0)\n",
    "    \n",
    "    return cornerList,color_img;\n"
   ]
  },
  {
   "cell_type": "code",
   "execution_count": 50,
   "metadata": {},
   "outputs": [],
   "source": [
    "corners,corner_image = findCorners(image, 5,5, 0.04, 150000)"
   ]
  },
  {
   "cell_type": "code",
   "execution_count": 51,
   "metadata": {},
   "outputs": [
    {
     "data": {
      "text/plain": [
       "<matplotlib.image.AxesImage at 0x7f653bd93dd0>"
      ]
     },
     "execution_count": 51,
     "metadata": {},
     "output_type": "execute_result"
    },
    {
     "data": {
      "image/png": "[encoded data removed]",
      "text/plain": [
       "<matplotlib.figure.Figure at 0x7f65377cec10>"
      ]
     },
     "metadata": {},
     "output_type": "display_data"
    }
   ],
   "source": [
    "plt.imshow(corner_image)"
   ]
  },
  {
   "cell_type": "code",
   "execution_count": 52,
   "metadata": {},
   "outputs": [],
   "source": [
    "def gaussian_kernel_2D(ksize, s):\n",
    "    offset = int(ksize / 2)\n",
    "    res = np.zeros((ksize, ksize))\n",
    "    for i in range(-offset, offset + 1):\n",
    "        for j in range(-offset, offset + 1):\n",
    "            res[i + offset][j + offset] = np.exp(-(i ** 2 + j ** 2) / (2 * s ** 2)) / (2 * np.pi * s ** 2)\n",
    "    res = res / np.sum(res)\n",
    "    #print(res)\n",
    "    #print(np.sum(res))\n",
    "    return res\n"
   ]
  },
  {
   "cell_type": "code",
   "execution_count": 61,
   "metadata": {},
   "outputs": [],
   "source": [
    "\n",
    "def findCornersGaussianWindow(image, window_size, ksize, k, threshold, std) :\n",
    "    \"\"\"\n",
    "    Finds the corners in the image using Gaussian window.\n",
    "\n",
    "    Parameters\n",
    "    ----------\n",
    "    image : (N,M) ndarray\n",
    "        Input image\n",
    "    window_size : Integer\n",
    "        It is the size of neighbourhood considered for corner detection\n",
    "    ksize : Integer \n",
    "        Aperture parameter of Sobel derivative used.\n",
    "    k : Float\n",
    "        Harris detector free parameter in the equation.\n",
    "    threshold : Float\n",
    "        Threshold used to classify a pixel as corner\n",
    "    std : Int\n",
    "        Standard deviation used by Gaussian Kernel\n",
    "    \n",
    "    Returns\n",
    "    -------\n",
    "    \n",
    "    corner_list : List\n",
    "        List containing the co ordinates of all the corners\n",
    "    \n",
    "    corner_image : (N,M) ndarray\n",
    "        Image with corners marked\n",
    "    \"\"\"  \n",
    "    \n",
    "    #Calculating the gradient\n",
    "    dx = cv2.Sobel(image,cv2.CV_64F,1,0,ksize = ksize)\n",
    "    dy = cv2.Sobel(image,cv2.CV_64F,0,1,ksize = ksize)\n",
    "    \n",
    "    #List which will have co ordinates of all the corners\n",
    "    cornerList = []\n",
    "    \n",
    "    Ixx = dx**2\n",
    "    Iyy = dy**2\n",
    "    Ixy = dx*dy\n",
    "    \n",
    "    height, width = image.shape\n",
    "    \n",
    "    offset = window_size/2\n",
    "    \n",
    "    #Creating a copy of the image to mark the corner pixels\n",
    "    newImg = image.copy()\n",
    "    color_img = cv2.cvtColor(newImg, cv2.COLOR_GRAY2RGB)\n",
    "    \n",
    "    \n",
    "    #Calling function to get 2D gaussian kernel of required size\n",
    "    Gaussian_weights = gaussian_kernel_2D(window_size,std)\n",
    "            \n",
    "    for i in range(offset, height - offset) :\n",
    "        for j in range(offset, width - offset) :\n",
    "            \n",
    "    #Here the window used is a matrix with all ones, so directly sum can be taken \n",
    "            Ix_window = Ixx[j-offset:j+offset+1, i-offset:i+offset+1]\n",
    "            Iy_window = Iyy[j-offset:j+offset+1, i-offset:i+offset+1]\n",
    "            Ixy_window = Ixy[j-offset:j+offset+1, i-offset:i+offset+1] \n",
    "            \n",
    "           \n",
    "            Ix_weighted = Ix_window * Gaussian_weights\n",
    "            Iy_weighted = Iy_window * Gaussian_weights\n",
    "            Ixy_weighted = Ixy_window * Gaussian_weights\n",
    "            \n",
    "            Sxx = np.sum(Ix_weighted)\n",
    "            Syy = np.sum(Iy_weighted)\n",
    "            Sxy = np.sum(Ixy_weighted)\n",
    "            \n",
    "    # Find determinant and trace, use to get corner response\n",
    "            det = (Sxx * Syy) - (Sxy**2)\n",
    "            trace = Sxx + Syy\n",
    "            r = det - k*(trace**2)\n",
    "            \n",
    "           \n",
    "            \n",
    "            if( r > threshold ) :\n",
    "                cornerList.append([i,j,r])\n",
    "                color_img.itemset((i, j, 0), 255)\n",
    "                color_img.itemset((i, j, 1), 0)\n",
    "                color_img.itemset((i, j, 2), 0)\n",
    "    \n",
    "    return cornerList,color_img;\n"
   ]
  },
  {
   "cell_type": "code",
   "execution_count": 62,
   "metadata": {},
   "outputs": [],
   "source": [
    "corners, cornerImage = findCornersGaussianWindow(image, 5,5,0.04, 100,1)"
   ]
  },
  {
   "cell_type": "code",
   "execution_count": 63,
   "metadata": {},
   "outputs": [
    {
     "data": {
      "text/plain": [
       "<matplotlib.image.AxesImage at 0x7f6537655ed0>"
      ]
     },
     "execution_count": 63,
     "metadata": {},
     "output_type": "execute_result"
    },
    {
     "data": {
      "image/png": "[encoded data removed]",
      "text/plain": [
       "<matplotlib.figure.Figure at 0x7f653766a090>"
      ]
     },
     "metadata": {},
     "output_type": "display_data"
    }
   ],
   "source": [
    "plt.imshow(cornerImage)"
   ]
  },
  {
   "cell_type": "code",
   "execution_count": 65,
   "metadata": {},
   "outputs": [
    {
     "data": {
      "text/plain": [
       "1200"
      ]
     },
     "execution_count": 65,
     "metadata": {},
     "output_type": "execute_result"
    }
   ],
   "source": [
    "len(corners)"
   ]
  },
  {
   "cell_type": "code",
   "execution_count": 69,
   "metadata": {},
   "outputs": [],
   "source": [
    "c = np.array(corners)"
   ]
  },
  {
   "cell_type": "code",
   "execution_count": 70,
   "metadata": {},
   "outputs": [
    {
     "data": {
      "text/plain": [
       "(1200, 3)"
      ]
     },
     "execution_count": 70,
     "metadata": {},
     "output_type": "execute_result"
    }
   ],
   "source": [
    "c.shape"
   ]
  },
  {
   "cell_type": "code",
   "execution_count": 71,
   "metadata": {},
   "outputs": [
    {
     "data": {
      "text/plain": [
       "1189866148140507.0"
      ]
     },
     "execution_count": 71,
     "metadata": {},
     "output_type": "execute_result"
    }
   ],
   "source": [
    "np.max(c[:,2])"
   ]
  }
 ],
 "metadata": {
  "kernelspec": {
   "display_name": "Python 2",
   "language": "python",
   "name": "python2"
  },
  "language_info": {
   "codemirror_mode": {
    "name": "ipython",
    "version": 2
   },
   "file_extension": ".py",
   "mimetype": "text/x-python",
   "name": "python",
   "nbconvert_exporter": "python",
   "pygments_lexer": "ipython2",
   "version": "2.7.12"
  }
 },
 "nbformat": 4,
 "nbformat_minor": 2
}
